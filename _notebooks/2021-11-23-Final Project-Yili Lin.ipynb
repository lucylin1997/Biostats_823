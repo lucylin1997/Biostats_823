{
 "cells": [
  {
   "cell_type": "markdown",
   "metadata": {},
   "source": [
    "# Final Project\n",
    "- toc: true\n",
    "- badges: true\n",
    "- comments: true\n",
    "- categories: [jupyter]"
   ]
  },
  {
   "cell_type": "markdown",
   "metadata": {},
   "source": [
    "## Overview"
   ]
  },
  {
   "cell_type": "markdown",
   "metadata": {},
   "source": [
    "The final project of our group is to build a dashboard providing an overview of several essential aspects of the current COVID-19 situation and provide in-depth analysis of the relationship between the last status of COVID-19 positive patients and their characteristics. "
   ]
  },
  {
   "cell_type": "markdown",
   "metadata": {},
   "source": [
    "## Dataset"
   ]
  },
  {
   "cell_type": "markdown",
   "metadata": {},
   "source": [
    "The dataset we use come from the several sources:\n",
    "   - Vaccination data: [click here](https://data.cdc.gov/Vaccinations/COVID-19-Vaccinations-in-the-United-States-Jurisdi/unsk-b7fc)\n",
    "   - ML model for predicting death or discharge: [click here](https://wiki.cancerimagingarchive.net/pages/viewpage.action?pageId=89096912#89096912bcab02c187174a288dbcbf95d26179e8)\n",
    "   - Death Cases Forecasting Data: [click here](https://www.cdc.gov/coronavirus/2019-ncov/science/forecasting/forecasting-us.html)"
   ]
  },
  {
   "cell_type": "markdown",
   "metadata": {},
   "source": [
    "## Problem Description"
   ]
  },
  {
   "cell_type": "markdown",
   "metadata": {},
   "source": [
    "All the patients in the clinical dataset are COVID-19 positive and the outcome variable is the last status of the patients (discharged vs. deceased). We want to build a model that can classify the last status of the patients based on their characteristics and compare the performances of different models. In addition, we are also interested in finding which factors contribute more to the prediction. The problem has some clinical meaning in that if we can discover some factors that are related to the last status of those COVID-19 positive patients, the results can give some advice to the clinicians when they provide health care to those patients in hospital. However, the dataset does not include information on whether the patients have taken COVID vaccinations or not and this may also be a related factor. So we provide some data visualizations to help us understand the possible relationship between the number of people who take vaccination and the number of deaths within a state."
   ]
  },
  {
   "cell_type": "markdown",
   "metadata": {},
   "source": [
    "## Data Product Introduction"
   ]
  },
  {
   "cell_type": "markdown",
   "metadata": {},
   "source": [
    "The dashboard has four main pages:\n",
    "   - Vaccine distribution\n",
    "   - Reported and forcasted death cases\n",
    "   - Model Performance\n",
    "   - Model Explanation "
   ]
  },
  {
   "cell_type": "markdown",
   "metadata": {},
   "source": [
    "### Vaccination Distribution\n",
    "\n",
    "This page provides an overview of the vaccination distribution across the US, including the number of people vaccined, the number of taking at least one dose/ fully vaccined/ receving the booster etc. The dropdown list and the date range selector enable the user to choose the time period or the states they are interested in. \n",
    "\n",
    "![vaccine_distribution](https://github.com/lucylin1997/fastpage_copy/blob/master/images/Vaccine_distribution.jpg?raw=true)"
   ]
  },
  {
   "cell_type": "markdown",
   "metadata": {},
   "source": [
    "### Reported and Forcasted Death Cases\n",
    "\n",
    "This page provides the reported deaths and forcasted deaths across the US. The dropdown lists enable the user to select the states and the model that are used to forcast the deaths.\n",
    "\n",
    "![death](https://github.com/lucylin1997/fastpage_copy/blob/master/images/forcasted_death.jpg?raw=true)"
   ]
  },
  {
   "cell_type": "markdown",
   "metadata": {},
   "source": [
    "### Model Performance"
   ]
  },
  {
   "cell_type": "markdown",
   "metadata": {},
   "source": [
    "After the exploratory data analysis, we find that the dataset has some missing value and the class label is imbalanced, so we propose four methods to improve the data quality before training. \n",
    "\n",
    "   - Deleting all the missing value and keeping the imbalanced class\n",
    "   - Deleting all the missing value and oversampling the majority class\n",
    "   - Imputing the missing value and keeping the imbalanced class\n",
    "   - Imputing the missing value and oversampling the majority class\n",
    "\n",
    "For the classification model, we used  Ridge Classifier, K Nearest Neighbor, Logistic Regression, Light Gradient Boosting Machine, Linear Discriminant Analysis, Catboost Classifier, Adaboost Classifier, Gradient Boost Classifier, Random Forest Classifier, Extreme Gradient Boosting, Quadratic Boosting Classifier, Extra Tree Classifier, Support Vector Machine, Decision Tree, and Nayes Bayes\n",
    "\n",
    "The first plot shows the performances of different models for the same data preprocessing method (the confusion matrix will change when you hover on different model points). Users can choose the evaluation metrics and the data preprocessing methods"
   ]
  },
  {
   "cell_type": "markdown",
   "metadata": {},
   "source": [
    "![Model Performance](https://github.com/lucylin1997/fastpage_copy/blob/master/images/model_performance1.png?raw=true)"
   ]
  },
  {
   "cell_type": "markdown",
   "metadata": {},
   "source": [
    "The second plot shows the performances of the same model for different data preprocessing methods (the corresponding confusion matrix will change when you hover on different preprocessing methods). Users can choose the evaluation metrics and the classifier. \n",
    "\n",
    "![Model_performance2](https://github.com/lucylin1997/fastpage_copy/blob/master/images/Model_performance2.png?raw=true)"
   ]
  },
  {
   "cell_type": "markdown",
   "metadata": {},
   "source": [
    "### Model Explanation"
   ]
  },
  {
   "cell_type": "markdown",
   "metadata": {},
   "source": [
    "In order to study the relationship between the relationship between the last status of COVID-19 positive patients and their characteristics, shap value of each features are provided. \n",
    "\n",
    "![Model Explannation](https://github.com/lucylin1997/fastpage_copy/blob/master/images/Model_Explanation.jpg?raw=true)\n",
    "\n",
    "From the above shap plot, we find that the number of calendar days in the facility (length_of_stay) and the number of documented days of invasive ventilation support (invasive_vent_days) were the two biggest contributors to mortality."
   ]
  },
  {
   "cell_type": "markdown",
   "metadata": {},
   "source": [
    "## Personal Contribution and Reflection"
   ]
  },
  {
   "cell_type": "markdown",
   "metadata": {},
   "source": [
    "In this project, I am mainly responsible for:\n",
    "\n",
    "  - Data Preprocessing: creating two new datasets (deleting all the missing values directly/oversampling the minority class)\n",
    "  - Built classification models\n",
    "  - Built the model performance dashboard using `Plotly`\n",
    "\n",
    "What I learned from this project:\n",
    "\n",
    "  - Methods to deal with imbalanced data, oversampling the minority class\n",
    "  - Different methods of dealing with the raw data may lead to different model results\n",
    "  - Used `plotly` to build dashboard for data visualization to help us compare the performances of different models or different methods and it can enable us to report the results to other collaborators more easily"
   ]
  },
  {
   "cell_type": "markdown",
   "metadata": {},
   "source": [
    "Key points in the individual work\n",
    "\n",
    "- Package used to deal with the imbalanced data: `imblearn`\n",
    "```python\n",
    "import imblearn\n",
    "X_train_resampled, y_train_resampled = imblearn.over_sampling.SMOTE().fit_resample(X_train, y_train)\n",
    "```\n",
    "- package used to build the model and save the performances: `pycaret`\n",
    "```python\n",
    "from pycaret.classification import *\n",
    "def comparemodel(dataset):\n",
    "    clfs = setup(\n",
    "           data = dataset, \n",
    "           target = 'last.status',\n",
    "           silent=True, \n",
    "           session_id=1,)\n",
    "    best_model = compare_models(sort = 'Accuracy')\n",
    "    best_results = pull()\n",
    "    return best_results\n",
    "```\n",
    "- packages used to build the dashboard: `plotly`, `dash`, below are the codes for generating the dashboard"
   ]
  },
  {
   "cell_type": "code",
   "execution_count": null,
   "metadata": {},
   "outputs": [],
   "source": [
    "data_lucy = pd.read_csv('model_results_final.csv')\n",
    "app = dash.Dash()\n",
    "metric_filter = data_lucy['variable'].unique()\n",
    "method_filter = data_lucy['Method'].unique()\n",
    "model_filter = data_lucy['Model'].unique()\n",
    "app.layout = html.Div([\n",
    "    html.Div([\n",
    "        html.Div([\n",
    "                html.Div([      \n",
    "                    \n",
    "                    html.H2('Dashboard1: Performance of Classification Model by Methods and Metrics', style=dict(color='#7F90AC')),\n",
    "                    ], className = \"nine columns padded\" )\n",
    "            ], className = 'row gs-header gs-text-header'),\n",
    "       html.Div([\n",
    "\n",
    "        html.Div([\n",
    "            dcc.Dropdown(\n",
    "                id='metric_filter_lucy',\n",
    "                options=[{'label': i, 'value': i} for i in metric_filter],\n",
    "                value='Accuracy'\n",
    "            )\n",
    "        ],style={'width': '40%', 'display': 'inline-block','align-items': 'center','justify-content': 'center','margin-left': '5%'}),\n",
    "        html.Div([\n",
    "            dcc.Dropdown(\n",
    "                id='method_filter_lucy',\n",
    "                options=[{'label': i, 'value': i} for i in method_filter],\n",
    "                value='Dataset after Deleting all the NAs'\n",
    "            )\n",
    "        ],\n",
    "        style={'width': '40%', 'display': 'inline-block','align-items': 'center','justify-content': 'center','margin-left': '10%'})\n",
    "    ]),\n",
    "    html.Div([\n",
    "        html.Div([\n",
    "        dcc.Graph(\n",
    "            id='method-filter-scatter_lucy',\n",
    "            hoverData={'points': [{'customdata': 'Ridge Classifier'}]}\n",
    "        )],style={'width': '49%', 'display': 'inline-block', 'padding': '0 20'}),\n",
    "        html.Div([\n",
    "        dcc.Graph(\n",
    "            id = 'confusion_matrix1_lucy')\n",
    "    ], style={'width': '49%', 'display': 'inline-block', 'padding': '0 20'})\n",
    "    ])\n",
    "    ],className = 'page'),\n",
    "    # Page 2\n",
    "     html.Div([\n",
    "        html.Div([\n",
    "                html.Div([      \n",
    "                    \n",
    "                    html.H2('Dashboard2: Performance of Classification Model by Models and Metrics', style=dict(color='#7F90AC')),\n",
    "                    ], className = \"nine columns padded\" )\n",
    "            ], className = 'row gs-header gs-text-header'),\n",
    "       html.Div([\n",
    "         html.Div([\n",
    "            dcc.Dropdown(\n",
    "                id='metric_filter1_lucy',\n",
    "                options=[{'label': i, 'value': i} for i in metric_filter],\n",
    "                value='Accuracy'\n",
    "            )\n",
    "            ],style={'width': '40%', 'display': 'inline-block','margin-left': '5%'}),\n",
    "         html.Div([\n",
    "            dcc.Dropdown(\n",
    "                id='model_filter_lucy',\n",
    "                options=[{'label': i, 'value': i} for i in model_filter],\n",
    "                value='Ridge Classifier',\n",
    "            )\n",
    "            ],style={'width': '40%', 'display': 'inline-block','margin-left': '10%'} )\n",
    "        \n",
    "    ]),\n",
    "    html.Div([\n",
    "        html.Div([\n",
    "        dcc.Graph(\n",
    "            id='model-filter-scatter_lucy',\n",
    "            hoverData={'points': [{'customdata':'Dataset after Deleting all the NAs'}]}\n",
    "        )\n",
    "        ], style={'width': '49%', 'display': 'inline-block','align-items': 'center','justify-content': 'center'}),\n",
    "        html.Div([\n",
    "        dcc.Graph(\n",
    "            id='confusion_matrix_lucy'\n",
    "        )\n",
    "        ], style={'width': '49%', 'display': 'inline-block',  'align-items': 'center','justify-content': 'center'})\n",
    "    ])\n",
    "    ],className = 'page'),\n",
    "])\n",
    "@app.callback(\n",
    "    dash.dependencies.Output('method-filter-scatter_lucy', 'figure'),\n",
    "    [dash.dependencies.Input('method_filter_lucy', 'value'),\n",
    "     dash.dependencies.Input('metric_filter_lucy','value')]\n",
    "    ) \n",
    "def update_graph1(selected_methods,selected_metrics):\n",
    "    filtered_df = data_lucy[(data_lucy['variable'] == selected_metrics) & (data_lucy['Method'] == selected_methods)]\n",
    "    return {\n",
    "        'data':[go_lucy.Scatter(\n",
    "           x = filtered_df['Model'],\n",
    "           y = filtered_df['value'],\n",
    "           text = filtered_df['Model'],\n",
    "           customdata = filtered_df['Model']\n",
    "           #marker_color=colors\n",
    "        )],\n",
    "        'layout': go_lucy.Layout(\n",
    "           \n",
    "           yaxis={\n",
    "               'title': 'Score'\n",
    "           },\n",
    "           height = 450,\n",
    "           hovermode = 'closest',\n",
    "           title = '<b>Performance of Classifier<b>'\n",
    "        )\n",
    "    }\n",
    "\n",
    "def create_cm(dff):\n",
    "    dff = dff.drop(['Method','Model','variable','value'],axis = 1)\n",
    "    arr = np.zeros((2, 2), dtype=np.int)\n",
    "    matrix = dff.values\n",
    "    arr[0,0] = matrix[0,0]\n",
    "    arr[0,1] = matrix[0,1]\n",
    "    arr[1,0] = matrix[0,2]\n",
    "    arr[1,1] = matrix[0,3]\n",
    "    x = ['deceased','discharged']\n",
    "    y = ['deceased','discharged']\n",
    "    z_text = [[str(y) for y in x] for x in arr]\n",
    "    fig = ff_lucy.create_annotated_heatmap(arr, x=x, y=y, annotation_text=z_text, colorscale=['aliceblue','aqua','aquamarine','darkturquoise'])\n",
    "    fig.update_layout(title_text='<i><b>Confusion matrix</b></i>',\n",
    "                  #xaxis = dict(title='x'),\n",
    "                  #yaxis = dict(title='x')\n",
    "                 )\n",
    "    return fig\n",
    "@app.callback(\n",
    "    dash.dependencies.Output('confusion_matrix1_lucy', 'figure'),\n",
    "    [dash.dependencies.Input('method_filter_lucy', 'value'),\n",
    "     dash.dependencies.Input('method-filter-scatter_lucy','hoverData')\n",
    "    ]) \n",
    "def update_cm_graph(selected_methods,hoverData):\n",
    "    model_name = hoverData['points'][0]['customdata']\n",
    "    dff = data_lucy[(data_lucy['Model'] == model_name) & (data_lucy['Method'] == selected_methods)]\n",
    "    return create_cm(dff)\n",
    "    \n",
    "@app.callback(\n",
    "    dash.dependencies.Output('model-filter-scatter_lucy', 'figure'),\n",
    "    [dash.dependencies.Input('model_filter_lucy', 'value'),\n",
    "     dash.dependencies.Input('metric_filter1_lucy','value')]\n",
    "    ) \n",
    "def update_graph(selected_models,selected_metrics):\n",
    "    filtered_df = data_lucy[(data_lucy['variable'] == selected_metrics) & (data_lucy['Model'] == selected_models)]\n",
    "    return {\n",
    "        'data':[go_lucy.Scatter(\n",
    "           x = filtered_df['Method'],\n",
    "           y = filtered_df['value'],\n",
    "           text = filtered_df['Method'],\n",
    "           customdata = filtered_df['Method']\n",
    "           #marker_color=colors\n",
    "        )],\n",
    "        'layout': go_lucy.Layout(\n",
    "           \n",
    "           yaxis={\n",
    "               'title': 'Data_Preprocessing_Method '\n",
    "           },\n",
    "           height = 450,\n",
    "           hovermode = 'closest',\n",
    "           title = '<b>Performance of Data Preprocessing Method<b>'\n",
    "        )\n",
    "    }\n",
    "@app.callback(\n",
    "    dash.dependencies.Output('confusion_matrix_lucy', 'figure'),\n",
    "    [dash.dependencies.Input('model_filter_lucy', 'value'),\n",
    "     dash.dependencies.Input('model-filter-scatter_lucy','hoverData')\n",
    "    ]) \n",
    "def update_cm_graph(selected_models,hoverData):\n",
    "    model_name = hoverData['points'][0]['customdata']\n",
    "    dff = data_lucy[(data_lucy['Method'] == model_name) & (data_lucy['Model'] == selected_models)]\n",
    "    return create_cm(dff)\n",
    "    \n",
    "app.css.append_css({\n",
    "    'external_url': 'https://codepen.io/chriddyp/pen/bWLwgP.css'\n",
    "})\n",
    "\n",
    "if __name__ == '__main__':\n",
    "    app.run_server()"
   ]
  }
 ],
 "metadata": {
  "kernelspec": {
   "display_name": "Python 3",
   "language": "python",
   "name": "python3"
  },
  "language_info": {
   "codemirror_mode": {
    "name": "ipython",
    "version": 3
   },
   "file_extension": ".py",
   "mimetype": "text/x-python",
   "name": "python",
   "nbconvert_exporter": "python",
   "pygments_lexer": "ipython3",
   "version": "3.6.5"
  }
 },
 "nbformat": 4,
 "nbformat_minor": 2
}

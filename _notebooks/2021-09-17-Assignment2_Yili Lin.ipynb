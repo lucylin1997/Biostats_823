{
 "cells": [
  {
   "cell_type": "markdown",
   "metadata": {},
   "source": [
    "# Assignment 2\n",
    "- toc: true\n",
    "- badges: true\n",
    "- comments: true\n",
    "- categories: [jupyter]"
   ]
  },
  {
   "cell_type": "code",
   "execution_count": 102,
   "metadata": {},
   "outputs": [],
   "source": [
    "import numpy as np\n",
    "import pandas as pd\n",
    "from decimal import *\n",
    "import math\n",
    "import unittest\n",
    "from sympy import *"
   ]
  },
  {
   "cell_type": "markdown",
   "metadata": {},
   "source": [
    "###  Find the first 10-digit prime in the decimal expansion of $17\\pi$\n",
    "The first 5 digits in the decimal expansion of $\\pi$ are 14159. The first 4-digit prime in the decimal expansion of $\\pi$ are 4159. You are asked to find the first 10-digit prime in the decimal expansion of $17\\pi$. "
   ]
  },
  {
   "cell_type": "markdown",
   "metadata": {},
   "source": [
    "#### Task 1: Write a function to generate an arbitrary large expansion of a mathematical expression like $\\pi$. \n",
    "\n",
    "The 3rd party library `sympy` has a function called `N(expr, <args>)` that allows us to directly expand the expression to a certain precision.\n",
    "```python\n",
    ">> N(pi, 5)\n",
    "3.1416\n",
    "```\n"
   ]
  },
  {
   "cell_type": "code",
   "execution_count": 103,
   "metadata": {},
   "outputs": [],
   "source": [
    "def generate_expansion(precision, expression):\n",
    "    \"\"\" This function returns an expansion of a mathematical expression\n",
    "    given the precision. \n",
    "    \"\"\"\n",
    "    return N(expression, precision)    "
   ]
  },
  {
   "cell_type": "markdown",
   "metadata": {},
   "source": [
    "```python\n",
    ">> a = generate_expansion(5, pi)\n",
    ">> a\n",
    "3.1416\n",
    ">> type(a)\n",
    "sympy.core.numbers.Float\n",
    "```\n",
    "* Then we can run a unit test to test the `generate_expansion` function"
   ]
  },
  {
   "cell_type": "code",
   "execution_count": 104,
   "metadata": {},
   "outputs": [
    {
     "name": "stderr",
     "output_type": "stream",
     "text": [
      "test_genexp (__main__.TestFunc) ... ok\n",
      "test_genexp (__main__.TestNotebook) ... ok\n",
      "\n",
      "----------------------------------------------------------------------\n",
      "Ran 2 tests in 0.002s\n",
      "\n",
      "OK\n"
     ]
    },
    {
     "data": {
      "text/plain": [
       "<unittest.main.TestProgram at 0x23203530ca0>"
      ]
     },
     "execution_count": 104,
     "metadata": {},
     "output_type": "execute_result"
    }
   ],
   "source": [
    "class TestNotebook(unittest.TestCase):\n",
    "    \n",
    "    def test_genexp(self):\n",
    "        self.assertEqual(str(generate_expansion(10, pi)), '3.141592654')\n",
    "        \n",
    "unittest.main(argv=[''], verbosity=2, exit=False)"
   ]
  },
  {
   "cell_type": "markdown",
   "metadata": {},
   "source": [
    "#### Task 2: Write a function to check if a number is a prime number\n",
    "* Based on the definition of prime number, we need to check whether the number can be divided by any number that is less than the square root of the certain number."
   ]
  },
  {
   "cell_type": "code",
   "execution_count": 105,
   "metadata": {},
   "outputs": [],
   "source": [
    "def is_prime(num):\n",
    "    \"\"\" The function returns whether a given number is prime or not\n",
    "    \"\"\"\n",
    "    if num > 1:\n",
    "        for i in range(2, int(math.sqrt(num))+1):\n",
    "            if (num % i) == 0:\n",
    "                return False\n",
    "                #break\n",
    "        return True"
   ]
  },
  {
   "cell_type": "markdown",
   "metadata": {},
   "source": [
    "```python\n",
    ">> is_prime(40)\n",
    "False\n",
    "```\n",
    "* Then we can run a unit test to test the `is_prime` function"
   ]
  },
  {
   "cell_type": "code",
   "execution_count": 106,
   "metadata": {},
   "outputs": [
    {
     "name": "stderr",
     "output_type": "stream",
     "text": [
      "test_genexp (__main__.TestFunc) ... ok\n",
      "test_isprime (__main__.TestNotebook) ... ok\n",
      "\n",
      "----------------------------------------------------------------------\n",
      "Ran 2 tests in 0.005s\n",
      "\n",
      "OK\n"
     ]
    },
    {
     "data": {
      "text/plain": [
       "<unittest.main.TestProgram at 0x2320352b910>"
      ]
     },
     "execution_count": 106,
     "metadata": {},
     "output_type": "execute_result"
    }
   ],
   "source": [
    "class TestNotebook(unittest.TestCase):\n",
    "    \n",
    "    def test_isprime(self):\n",
    "        self.assertEqual(is_prime(29), True)  # 29 is a prime number\n",
    "        self.assertEqual(is_prime(30), False) # 30 is not a prime number\n",
    "        \n",
    "unittest.main(argv=[''], verbosity=2, exit=False)"
   ]
  },
  {
   "cell_type": "markdown",
   "metadata": {},
   "source": [
    "#### Task 3: Slicing Window"
   ]
  },
  {
   "cell_type": "code",
   "execution_count": 107,
   "metadata": {},
   "outputs": [],
   "source": [
    "def slicing_window (number_str, idx):\n",
    "    \"\"\" The function returns the specified width from a long iterable,\n",
    "    the inputs are the string format of a number and the start point of the \n",
    "    number\n",
    "    \"\"\"\n",
    "    return int(number_str[idx: idx+10])   "
   ]
  },
  {
   "cell_type": "markdown",
   "metadata": {},
   "source": [
    "The `slicing_window` works like below\n",
    "```python\n",
    ">> slicing_window('12345678899443878169846',1)\n",
    "2345678899\n",
    "```"
   ]
  },
  {
   "cell_type": "markdown",
   "metadata": {},
   "source": [
    "* Then we can run a unit test to test the `slicing_window` function"
   ]
  },
  {
   "cell_type": "code",
   "execution_count": 108,
   "metadata": {},
   "outputs": [
    {
     "name": "stderr",
     "output_type": "stream",
     "text": [
      "test_genexp (__main__.TestFunc) ... ok\n",
      "test_slicingwindow (__main__.TestNotebook) ... ok\n",
      "\n",
      "----------------------------------------------------------------------\n",
      "Ran 2 tests in 0.003s\n",
      "\n",
      "OK\n"
     ]
    },
    {
     "data": {
      "text/plain": [
       "<unittest.main.TestProgram at 0x23203542760>"
      ]
     },
     "execution_count": 108,
     "metadata": {},
     "output_type": "execute_result"
    }
   ],
   "source": [
    "class TestNotebook(unittest.TestCase):\n",
    "    def test_slicingwindow(self):\n",
    "        self.assertEqual(slicing_window('12345667788990',2), 3456677889)\n",
    "    \n",
    "unittest.main(argv=[''], verbosity=2, exit=False)"
   ]
  },
  {
   "cell_type": "code",
   "execution_count": 109,
   "metadata": {},
   "outputs": [],
   "source": [
    "# Find the first 10-digit number\n",
    "def find_prime(precision, expression):\n",
    "    \"\"\"The function returns the first 10-digit number in the \n",
    "    expansion of the expression\n",
    "    \"\"\"\n",
    "    expansion = generate_expansion(precision, expression)\n",
    "    formula = str(expansion) # The output of the generate_expansion is float, we need to convert it to string first\n",
    "    string = formula.replace(\".\", \"\") # replace the decimal point in the expansion\n",
    "    #initial = False\n",
    "    for idx in range(len(string)):\n",
    "        if is_prime(slicing_window(string, idx)) is True:\n",
    "            print( f'The first 10-digit prime of {expression} is {slicing_window(string, idx)} and the start point is at {idx}')\n",
    "            return slicing_window(string, idx)\n",
    "            break   "
   ]
  },
  {
   "cell_type": "markdown",
   "metadata": {},
   "source": [
    "* Then we can run a unit test to test the `find_prime` function"
   ]
  },
  {
   "cell_type": "code",
   "execution_count": 110,
   "metadata": {},
   "outputs": [
    {
     "name": "stderr",
     "output_type": "stream",
     "text": [
      "test_genexp (__main__.TestFunc) ... ok\n",
      "test_slicingwindow (__main__.TestNotebook) ... "
     ]
    },
    {
     "name": "stdout",
     "output_type": "stream",
     "text": [
      "The first 10-digit prime of E is 7427466391 and the start point is at 99\n"
     ]
    },
    {
     "name": "stderr",
     "output_type": "stream",
     "text": [
      "ok\n",
      "\n",
      "----------------------------------------------------------------------\n",
      "Ran 2 tests in 0.015s\n",
      "\n",
      "OK\n"
     ]
    },
    {
     "data": {
      "text/plain": [
       "<unittest.main.TestProgram at 0x23203542b20>"
      ]
     },
     "execution_count": 110,
     "metadata": {},
     "output_type": "execute_result"
    }
   ],
   "source": [
    "class TestNotebook(unittest.TestCase):\n",
    "    def test_slicingwindow(self):\n",
    "        self.assertEqual(find_prime(500, exp(1)), 7427466391)\n",
    "        \n",
    "unittest.main(argv=[''], verbosity=2, exit=False)"
   ]
  },
  {
   "cell_type": "markdown",
   "metadata": {},
   "source": [
    "* The the final solution to the problem is:"
   ]
  },
  {
   "cell_type": "code",
   "execution_count": 111,
   "metadata": {},
   "outputs": [
    {
     "name": "stdout",
     "output_type": "stream",
     "text": [
      "The first 10-digit prime of 17*pi is 8649375157 and the start point is at 20\n"
     ]
    },
    {
     "data": {
      "text/plain": [
       "8649375157"
      ]
     },
     "execution_count": 111,
     "metadata": {},
     "output_type": "execute_result"
    }
   ],
   "source": [
    "find_prime(500, 17*pi)"
   ]
  },
  {
   "cell_type": "code",
   "execution_count": null,
   "metadata": {},
   "outputs": [],
   "source": []
  }
 ],
 "metadata": {
  "kernelspec": {
   "display_name": "Python 3",
   "language": "python",
   "name": "python3"
  },
  "language_info": {
   "codemirror_mode": {
    "name": "ipython",
    "version": 3
   },
   "file_extension": ".py",
   "mimetype": "text/x-python",
   "name": "python",
   "nbconvert_exporter": "python",
   "pygments_lexer": "ipython3",
   "version": "3.8.5"
  }
 },
 "nbformat": 4,
 "nbformat_minor": 4
}

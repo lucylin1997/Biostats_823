{
 "cells": [
  {
   "cell_type": "markdown",
   "metadata": {},
   "source": [
    "# Assignment 1"
   ]
  },
  {
   "cell_type": "markdown",
   "metadata": {},
   "source": [
    "### [Question 1 Euler Project Problem 15 Lattice Path](https://projecteuler.net/problem=15)\n",
    "Starting in the top left corner of a 2×2 grid, and only being able to move to the right and down, there are exactly 6 routes to the bottom right corner.\n",
    "\n",
    "![image1](https://github.com/lucylin1997/fastpage_copy/blob/master/images/Q1.png)\n",
    "\n",
    "How many such routes are there through a 20×20 grid?"
   ]
  },
  {
   "cell_type": "markdown",
   "metadata": {},
   "source": [
    "### Solution to Question 1\n",
    "We can first consider the grid as a matrix, each element in the matrix represents the number of routes to that a location in the grid. For example, for a 2×2 grid, the dimension of the matirx is 3 by 3 and matrix[2][2] = 6, meaning that there are 6 routes to the bottom right corner. Similarly, we can calculate that For the other location, The question requires us to calculate the routes through the 20×20 grid, we can first set the boundary condition, that is, for those location on the top or left boundary of the grid, there is only one route to that location. And for all the other locations, the number of routes equal to the number of routes on its left plus the number of routes on this top, so we can see this problem as a dynamic programming. "
   ]
  },
  {
   "cell_type": "code",
   "execution_count": 8,
   "metadata": {},
   "outputs": [
    {
     "name": "stdout",
     "output_type": "stream",
     "text": [
      "137846528820.0\n"
     ]
    }
   ],
   "source": [
    "#Question 1 Lattice Path\n",
    "import numpy as np\n",
    "def count_path(n):\n",
    "    # Dynamic Programming\n",
    "    # Initilize the condition boundary\n",
    "    mat = np.zeros((n+1, n+1))\n",
    "    for idx in range(len(mat)):\n",
    "        mat[0][idx] = 1  # The top boundary of the grid only has one routes\n",
    "        mat[idx][0] = 1  # The left boundary of the grid has only one routes\n",
    "    for row in range(1, len(mat)): #dynamic programming\n",
    "        for col in range(1, len(mat)):\n",
    "            mat[row, col] = mat[row, col-1] + mat[row-1, col] \n",
    "    return mat[n][n]  #return the location on the bottom right corner       \n",
    "print(count_path(20))\n",
    "               "
   ]
  },
  {
   "cell_type": "markdown",
   "metadata": {},
   "source": [
    "### Question 2 Euler Project Problem 50 Distinct Prime Factors\n",
    "The prime 41, can be written as the sum of six consecutive primes:\n",
    "                                41 = 2 + 3 + 5 + 7 + 11 + 13\n",
    "This is the longest sum of consecutive primes that adds to a prime below one-hundred.\n",
    "\n",
    "The longest sum of consecutive primes below one-thousand that adds to a prime, contains 21 terms, and is equal to 953.\n",
    "\n",
    "Which prime, below one-million, can be written as the sum of the most consecutive primes?"
   ]
  },
  {
   "cell_type": "markdown",
   "metadata": {},
   "source": [
    "### Solution to Question 2\n"
   ]
  },
  {
   "cell_type": "code",
   "execution_count": 22,
   "metadata": {},
   "outputs": [
    {
     "name": "stdout",
     "output_type": "stream",
     "text": [
      "78498\n"
     ]
    }
   ],
   "source": [
    "import numpy as np\n",
    "import math\n",
    "def sieve_func(n):\n",
    "    bool_list = [True] * n  #This is the list used to indicate whether the number is a prime number, initialize it to all True\n",
    "    bool_list[0] = False\n",
    "    bool_list[1] = False\n",
    "    for i in range(2, int(math.sqrt(n))+1):\n",
    "        if bool_list[i] is True:\n",
    "            for j in range(i**2, n, i):\n",
    "                bool_list[j] = False\n",
    "    prime_list = [index for index, boolvalue in enumerate(bool_list) if boolvalue == True]\n",
    "    return prime_list\n",
    "\n",
    "primes = sieve_func(1000000)\n"
   ]
  },
  {
   "cell_type": "code",
   "execution_count": 23,
   "metadata": {},
   "outputs": [],
   "source": [
    "length = 0\n",
    "\n",
    "# value of the consecutive prime sum\n",
    "largest = 0\n",
    "\n",
    "# max value of the j variable(second for loop)\n",
    "lastj = len(primes)\n",
    "\n",
    "# two for loops\n",
    "for i in range(len(primes)):\n",
    "    for j in range(i+length, lastj):\n",
    "        sol = sum(primes[i:j])\n",
    "        if sol < 1000000:\n",
    "            if sol in primes:\n",
    "                length = j-i\n",
    "                largest = sol\n",
    "        else:\n",
    "            lastj = j+1\n",
    "            break"
   ]
  },
  {
   "cell_type": "code",
   "execution_count": 24,
   "metadata": {},
   "outputs": [
    {
     "name": "stdout",
     "output_type": "stream",
     "text": [
      "997651\n"
     ]
    }
   ],
   "source": [
    "print(largest)"
   ]
  },
  {
   "cell_type": "markdown",
   "metadata": {},
   "source": [
    "### Question 3 Euler Project Problem 123 Prime square remainders\n",
    "Let $$p_n$$ be the nth prime: 2, 3, 5, 7, 11,... and let r be the reminder when \\(p_n-1)^n + (p_n+1)^n\\ is divided by \\p_n^2\\.\n",
    "\n",
    "For example, when n = 3, \\p_3 =5\\, and \\4^3 + 6^3 = 280 = 5 mod 25\\.\n",
    "\n",
    "The least value of n for which the reminder first exceeds \\10^9\\ is 7037.\n",
    "\n",
    "Find the least value of n for which the reminder first exceeds \\10^10\\.\n",
    "\n",
    "\n"
   ]
  },
  {
   "cell_type": "markdown",
   "metadata": {},
   "source": [
    "![image2](https://github.com/lucylin1997/fastpage_copy/blob/master/images/Q3.png?raw=true)"
   ]
  },
  {
   "cell_type": "markdown",
   "metadata": {},
   "source": [
    "### Solution to Question 3 \n",
    "![image3](https://github.com/lucylin1997/fastpage_copy/blob/master/images/Q3_1.png?raw=true)\n"
   ]
  },
  {
   "cell_type": "code",
   "execution_count": 35,
   "metadata": {},
   "outputs": [],
   "source": [
    "initial_n = 7037  #Set the initial value of n to 7037\n",
    "limit =10000000000\n",
    "max_n = int(limit/(2*primes[initial_n-1]))\n",
    "product = 0\n",
    "primes1 = sieve_func(5_000_000)\n",
    "#print(len(primes1))\n",
    "while product <= limit:\n",
    "    initial_n += 2\n",
    "    product = 2 * initial_n * primes1[initial_n-1]\n",
    "    \n",
    "print(initial_n)\n",
    "\n"
   ]
  }
 ],
 "metadata": {
  "kernelspec": {
   "display_name": "Python 3",
   "language": "python",
   "name": "python3"
  },
  "language_info": {
   "codemirror_mode": {
    "name": "ipython",
    "version": 3
   },
   "file_extension": ".py",
   "mimetype": "text/x-python",
   "name": "python",
   "nbconvert_exporter": "python",
   "pygments_lexer": "ipython3",
   "version": "3.8.5"
  }
 },
 "nbformat": 4,
 "nbformat_minor": 4
}

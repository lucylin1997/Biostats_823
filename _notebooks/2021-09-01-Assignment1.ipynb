{
 "cells": [
  {
   "cell_type": "code",
   "execution_count": 8,
   "metadata": {},
   "outputs": [
    {
     "name": "stdout",
     "output_type": "stream",
     "text": [
      "137846528820.0\n"
     ]
    }
   ],
   "source": [
    "#Question 1 Lattice Path\n",
    "import numpy as np\n",
    "def count_path(n):\n",
    "    # Dynamic Programming\n",
    "    # Initilize the condition boundary\n",
    "    mat = np.zeros((n+1, n+1))\n",
    "    for idx in range(len(mat)):\n",
    "        mat[0][idx] = 1\n",
    "        mat[idx][0] = 1\n",
    "    for row in range(1, len(mat)):\n",
    "        for col in range(1, len(mat)):\n",
    "            mat[row, col] = mat[row, col-1] + mat[row-1, col]\n",
    "    return mat[n][n]        \n",
    "print(count_path(20))\n",
    "        \n",
    "        "
   ]
  },
  {
   "cell_type": "markdown",
   "metadata": {},
   "source": [
    "Question 2 Euler Project Problem 50 Distinct Prime Factors\n",
    "Problem Description:\n",
    "The prime 41, can be written as the sum of six consecutive primes:\n",
    "                                41 = 2 + 3 + 5 + 7 + 11 + 13\n",
    "This is the longest sum of consecutive primes that adds to a prime below one-hundred.\n",
    "The longest sum of consecutive primes below one-thousand that adds to a prime, contains 21 terms, and is equal to 953.\n",
    "Which prime, below one-million, can be written as the sum of the most consecutive primes?"
   ]
  },
  {
   "cell_type": "code",
   "execution_count": 22,
   "metadata": {},
   "outputs": [
    {
     "name": "stdout",
     "output_type": "stream",
     "text": [
      "78498\n"
     ]
    }
   ],
   "source": [
    "import numpy as np\n",
    "import math\n",
    "def sieve_func(n):\n",
    "    bool_list = [True] * n  #This is the list used to indicate whether the number is a prime number, initialize it to all True\n",
    "    bool_list[0] = False\n",
    "    bool_list[1] = False\n",
    "    for i in range(2, int(math.sqrt(n))+1):\n",
    "        if bool_list[i] is True:\n",
    "            for j in range(i**2, n, i):\n",
    "                bool_list[j] = False\n",
    "    prime_list = [index for index, boolvalue in enumerate(bool_list) if boolvalue == True]\n",
    "    return prime_list\n",
    "\n",
    "primes = sieve_func(1000000)\n"
   ]
  },
  {
   "cell_type": "code",
   "execution_count": 23,
   "metadata": {},
   "outputs": [],
   "source": [
    "length = 0\n",
    "\n",
    "# value of the consecutive prime sum\n",
    "largest = 0\n",
    "\n",
    "# max value of the j variable(second for loop)\n",
    "lastj = len(primes)\n",
    "\n",
    "# two for loops\n",
    "for i in range(len(primes)):\n",
    "    for j in range(i+length, lastj):\n",
    "        sol = sum(primes[i:j])\n",
    "        if sol < 1000000:\n",
    "            if sol in primes:\n",
    "                length = j-i\n",
    "                largest = sol\n",
    "        else:\n",
    "            lastj = j+1\n",
    "            break"
   ]
  },
  {
   "cell_type": "code",
   "execution_count": 24,
   "metadata": {},
   "outputs": [
    {
     "name": "stdout",
     "output_type": "stream",
     "text": [
      "997651\n"
     ]
    }
   ],
   "source": [
    "print(largest)"
   ]
  },
  {
   "cell_type": "markdown",
   "metadata": {},
   "source": [
    "Question 3 Exploring Pascal's triangle\n",
    "Problem Description: \n",
    "First, we can calculate the remainder when (pn−1)^n + (pn+1)^n is divided by pn^2. Considering that if we expand (pn−1)^n and (pn+1)^n, then (pn−1)^n="
   ]
  },
  {
   "cell_type": "code",
   "execution_count": 35,
   "metadata": {},
   "outputs": [],
   "source": [
    "initial_n = 7037\n",
    "limit =10000000000\n",
    "max_n = int(limit/(2*primes[initial_n-1]))\n",
    "product = 0\n",
    "primes1 = sieve_func(5_000_000)\n",
    "#print(len(primes1))\n",
    "\n",
    "\n"
   ]
  },
  {
   "cell_type": "code",
   "execution_count": 37,
   "metadata": {},
   "outputs": [
    {
     "name": "stdout",
     "output_type": "stream",
     "text": [
      "21035\n"
     ]
    }
   ],
   "source": [
    "while product <= limit:\n",
    "    initial_n += 2\n",
    "    product = 2 * initial_n * primes1[initial_n-1]\n",
    "    \n",
    "print(initial_n)\n"
   ]
  },
  {
   "cell_type": "code",
   "execution_count": null,
   "metadata": {},
   "outputs": [],
   "source": []
  }
 ],
 "metadata": {
  "kernelspec": {
   "display_name": "Python 3",
   "language": "python",
   "name": "python3"
  },
  "language_info": {
   "codemirror_mode": {
    "name": "ipython",
    "version": 3
   },
   "file_extension": ".py",
   "mimetype": "text/x-python",
   "name": "python",
   "nbconvert_exporter": "python",
   "pygments_lexer": "ipython3",
   "version": "3.8.5"
  }
 },
 "nbformat": 4,
 "nbformat_minor": 4
}

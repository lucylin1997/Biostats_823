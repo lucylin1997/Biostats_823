{
 "cells": [
  {
   "cell_type": "markdown",
   "metadata": {},
   "source": [
    "# Assignment 1\n",
    "- toc: true\n",
    "- badges: true\n",
    "- comments: true\n",
    "- categories: [jupyter]"
   ]
  },
  {
   "cell_type": "markdown",
   "metadata": {},
   "source": [
    "### Question 1 Problem 15 [Lattice Path](https://projecteuler.net/problem=15)\n",
    "Starting in the top left corner of a 2×2 grid, and only being able to move to the right and down, there are exactly 6 routes to the bottom right corner.\n",
    "\n",
    "![image1](https://github.com/lucylin1997/fastpage_copy/blob/master/images/Q1.png?raw=true)\n",
    "\n",
    "How many such routes are there through a 20×20 grid?"
   ]
  },
  {
   "cell_type": "markdown",
   "metadata": {},
   "source": [
    "### Solution to Question 1\n",
    "We can first consider the grid as a matrix, each element in the matrix represents the number of routes to that a location in the grid. For example, for a 2×2 grid, the corresponding matrix ${a_{i,j}}$ looks like this:\n",
    "$$\n",
    "\\left(\n",
    "\\begin{array}{l}\n",
    "0& 1 & 1\\\\\n",
    "1& 2&3\\\\\n",
    "1& 3 &6\n",
    "\\end{array}\n",
    "\\right)\n",
    "$$\n",
    "$a_{2,2}=6$, meaning that there are 6 routes to the bottom right corner. From the $2\\times 2$ grid example and our observation, we find that there is always only one route for those located on the left and top of the grid. And for the remaining locations, the number of routes depend on those located on its top and left. So it is a dynamic programming problem. "
   ]
  },
  {
   "cell_type": "code",
   "execution_count": 19,
   "metadata": {},
   "outputs": [
    {
     "name": "stdout",
     "output_type": "stream",
     "text": [
      "137846528820.0\n"
     ]
    }
   ],
   "source": [
    "#Question 1 Lattice Path\n",
    "import numpy as np\n",
    "def count_path(n):\n",
    "    \"\"\"The parameter of the function is the dimension of the grid and it will return the number of routes to the bottom right corner of the grid\n",
    "    \"\"\"\n",
    "    # Dynamic Programming\n",
    "    # Initilize the condition boundary\n",
    "    mat = np.zeros((n+1, n+1))\n",
    "    for idx in range(len(mat)):\n",
    "        mat[0][idx] = 1  # The top boundary of the grid only has one routes\n",
    "        mat[idx][0] = 1  # The left boundary of the grid has only one routes\n",
    "    for row in range(1, len(mat)): #dynamic programming\n",
    "        for col in range(1, len(mat)):\n",
    "            mat[row, col] = mat[row, col-1] + mat[row-1, col] \n",
    "    return mat[n][n]  #return the location on the bottom right corner \n",
    "     \n",
    "if __name__ == '__main__':\n",
    "    print(count_path(20))\n",
    "               "
   ]
  },
  {
   "cell_type": "markdown",
   "metadata": {},
   "source": [
    "### Question 2 Problem 50 [Distinct Prime Factors](https://projecteuler.net/problem=50)\n",
    "The prime 41, can be written as the sum of six consecutive primes:\n",
    "                                41 = 2 + 3 + 5 + 7 + 11 + 13\n",
    "This is the longest sum of consecutive primes that adds to a prime below one-hundred.\n",
    "\n",
    "The longest sum of consecutive primes below one-thousand that adds to a prime, contains 21 terms, and is equal to 953.\n",
    "\n",
    "Which prime, below one-million, can be written as the sum of the most consecutive primes?"
   ]
  },
  {
   "cell_type": "markdown",
   "metadata": {},
   "source": [
    "### Solution to Question 2\n",
    "First, we need to generate a list of prime number. There is a traditional algorithm called `sieve of eratosthenes`, which is  designed for generating prime numbers less than a given value. \n",
    "\n",
    "\n",
    "#### Sieve of Eratosthenes\n",
    "1. Create a list of n-1 consecutive integers 2, 3, 4,..., n. 2 is the smallest prime number\n",
    "2. For the first loop, set k to 2\n",
    "3. Let k increase k every step until it reaches n, that is, the algorithm loop over k, 2k, 3k,.. and mark these numbers in the list\n",
    "4. Then find the smallest number in the list that is not marked and if no such number exists, the algorithm will stop. Otherwise, set k to the new number and iterate again. \n",
    "5. At the end of the algorithm, all the numbers that are not marked are the prime numbers.\n",
    "\n",
    "> **Example: Find  prime less than 20** \n",
    "> \n",
    "> List all the number that is less than 20\n",
    "> \n",
    ">                     2, 3, 4, 5, 6, 7, 8, 9, 10, 11, 12, 13, 14, 15, 16, 17, 18, 19, 20\n",
    "> \n",
    "> Start with 2, we will mark 2, 4, 6,.. 20\n",
    "> \n",
    ">                                  2, 3, 5, 7, 9, 11, 13, 15, 17, 19\n",
    "> \n",
    "> The next start number is 3, we will mark 9,15\n",
    "> \n",
    ">                                        2, 3, 5, 7, 11, 13, 17, 19\n",
    "> \n",
    "> Then we can see that all the prime numbers less than 20 are listed in the above.\n",
    "\n",
    "With the `sieve of eratosthenes` algorithm, we can find all the prime numbers that are less than the given limit. When the limit is 100, the prime list is [2, 3, 5, 7, 11, 13, 17, 19, 23, 29, 31, 37, 41, 43, 47, 53, 59, 61, 67, 71, 73, 79, 83, 89, 97]. For the first loop, We start with the first prime number 2, and we will loop over the whole prime list to check if 2, 2 + 3, 2 + 3 + 5... is a prime number and if the summation exceeds 100. When the summation is a prime number, the current length of the consective prime numbers is the difference between the index of the first number and the last number, and if the summation exceeds 100, the stop index is the index of the last number. In this case, 2 + 3 + 5 + 7+ 11 + 13 + 17 + 19 + 23 = 100, so the stop index should be 9. Since 2 + 3 + 5 + 7+ 11 + 13= 41 is the longest sum of consecutive prime for the first loop, the length of consecutive after first loop is 6. Similarly we start with prime number 3, 5,.... until the algorithm stops. \n"
   ]
  },
  {
   "cell_type": "code",
   "execution_count": 55,
   "metadata": {},
   "outputs": [],
   "source": [
    "import numpy as np\n",
    "import math\n",
    "def sieve_func(n):\n",
    "    bool_list = [True] * n  #This is the list used to indicate whether the number is marked, initially set all the elements to True\n",
    "    bool_list[0] = False  # 0 is not a prime number\n",
    "    bool_list[1] = False  # 1 is not a prime number\n",
    "    for i in range(2, int(math.sqrt(n))+1):\n",
    "        if bool_list[i] is True:\n",
    "            for j in range(i**2, n, i):\n",
    "                bool_list[j] = False\n",
    "    prime_list = [index for index, boolvalue in enumerate(bool_list) if boolvalue == True] # find all the numbers that are not marked\n",
    "    return prime_list\n"
   ]
  },
  {
   "cell_type": "code",
   "execution_count": 50,
   "metadata": {},
   "outputs": [],
   "source": [
    "def find_distinct_factor(limit):\n",
    "    \"\"\" The parameter of this function is the limit value, \n",
    "    and the function will return the largest prime that can be written as \n",
    "    the sum of the most consecutive primes under the given limit\n",
    "    \"\"\"\n",
    "    primes = sieve_func(limit)\n",
    "    # Set the original length of the consecutive number to be 0\n",
    "    raw_length = 0\n",
    "\n",
    "    # initial value of the consecutive prime sum\n",
    "    largest_sum = 0\n",
    "\n",
    "    # the last index for the end of the consecutive number, that is, if the index of the prime in the list exceeds this number, the summation will be larger than the given value\n",
    "    # Initially set to the length of the prime list\n",
    "    last_idx = len(primes)\n",
    "    # two for loops\n",
    "    for i in range(len(primes)):\n",
    "        for j in range(i + raw_length, last_idx):\n",
    "            summation = sum(primes[i:j])\n",
    "            if summation < limit:\n",
    "                if summation in primes:\n",
    "                    raw_length = j - i\n",
    "                    largest_sum = summation\n",
    "            else:  # When the summation of the consecutive number exceeds 100, we will set the stop point\n",
    "                last_idx = j + 1\n",
    "                break\n",
    "    return largest_sum"
   ]
  },
  {
   "cell_type": "code",
   "execution_count": 52,
   "metadata": {},
   "outputs": [
    {
     "name": "stdout",
     "output_type": "stream",
     "text": [
      "997651\n"
     ]
    }
   ],
   "source": [
    "print(find_distinct_factor(1000000))"
   ]
  },
  {
   "cell_type": "markdown",
   "metadata": {},
   "source": [
    "### Question 3  Problem 123 [Prime square remainders](https://projecteuler.net/problem=123)\n",
    "Let $p_n$ be the nth prime: 2, 3, 5, 7, 11,... and let r be the reminder when $(p_n-1)^n + (p_n+1)^n$ is divided by $p_n^2$.\n",
    "\n",
    "For example, when n = 3, $p_3 =5$, and $4^3 + 6^3 = 280 = 5\\mod 25$.\n",
    "\n",
    "The least value of n for which the reminder first exceeds $10^9$ is 7037.\n",
    "\n",
    "Find the least value of n for which the reminder first exceeds $10^{10}$."
   ]
  },
  {
   "cell_type": "markdown",
   "metadata": {},
   "source": [
    "### Solution to Question 3 \n",
    "The expansion of $(p_n-1)^n$: \n",
    "\n",
    "$(p_n-1)^n = p_n^n - (n-1)p_n^{n-1}+\\binom{n}{n-2}p_n^{n-2}+...+(-1)^{n-1}np_n+(-1)^n$. \n",
    "\n",
    "The expansion of $(p_n+1)^n$ is:\n",
    "\n",
    "$(p_n+1)^n= p_n^n+ (n-1)p_n^{n-1}+\\binom{n}{n-2}p_n^{n-2}+...+np_n+ 1$. \n",
    "\n",
    "From the equation above we know that except for the last two terms, all the other terms are divisable by $p_n^2$. Thus, the reminder when $(p_n-1)^n+(p_n+1)^n$ is divided by $p_n^2$ should be:\n",
    "\n",
    "$r = (-1)^{n-1}np_n+(-1)^n +np_n+1$. \n",
    "\n",
    "So when n is an odd value, $r = 2np_n$, when n is an even number, $r= 2$. The question requires us to find the least value of n for which the reminder first exceeds $10^{10}$, so n must be an odd number. As is mentioned in the problem description: \"the least value of n for which the remainder first exceeds $10^9$ is 7037\", thus the start point can begin with 7037 and we only care about the odd number. We can use the sieve function we defined in Question 2 and list all the prime number which is less than 5000000 (This number does not need to be exact 5000000, we just need to define a large number to make sure that there are enough prime numbers). Then we can loop over the prime number and find the least value of n when the reminder exceeds $10^{10}$\n"
   ]
  },
  {
   "cell_type": "code",
   "execution_count": 5,
   "metadata": {},
   "outputs": [
    {
     "name": "stdout",
     "output_type": "stream",
     "text": [
      "21035\n"
     ]
    }
   ],
   "source": [
    "\n",
    "def find_reminder(n):\n",
    "    \"\"\" The find_reminder() function has one parameter n, which is the limit. The function\n",
    "    will return the least value of n when the reminder exceeds the given limit.\n",
    "    \"\"\"\n",
    "    initial_n = 7037  #Set the initial value of n to 7037\n",
    "    limit = n  #max limit for the reminder\n",
    "    product = 0\n",
    "    primeslist = sieve_func(5_000_000) # Find all the prime number which is less than 5_000_000, the limit can vary\n",
    "    while product <= limit:\n",
    "        initial_n += 2\n",
    "        product = 2 * initial_n * primeslist[initial_n-1]\n",
    "    return initial_n\n",
    "    \n",
    "if __name__ == '__main__':\n",
    "    print(find_reminder(10000000000))\n",
    "\n"
   ]
  }
 ],
 "metadata": {
  "kernelspec": {
   "display_name": "Python 3",
   "language": "python",
   "name": "python3"
  },
  "language_info": {
   "codemirror_mode": {
    "name": "ipython",
    "version": 3
   },
   "file_extension": ".py",
   "mimetype": "text/x-python",
   "name": "python",
   "nbconvert_exporter": "python",
   "pygments_lexer": "ipython3",
   "version": "3.8.5"
  }
 },
 "nbformat": 4,
 "nbformat_minor": 4
}

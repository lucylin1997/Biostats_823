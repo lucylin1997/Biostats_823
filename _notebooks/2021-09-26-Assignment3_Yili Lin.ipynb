{
 "cells": [
  {
   "cell_type": "markdown",
   "metadata": {},
   "source": [
    "# altair + ipywidgets"
   ]
  },
  {
   "cell_type": "markdown",
   "metadata": {},
   "source": [
    "***\n",
    "**Set Up**"
   ]
  },
  {
   "cell_type": "code",
   "execution_count": 1,
   "metadata": {},
   "outputs": [],
   "source": [
    "import pandas as pd\n",
    "import altair as alt\n",
    "from ipywidgets import interact"
   ]
  },
  {
   "cell_type": "code",
   "execution_count": 2,
   "metadata": {},
   "outputs": [],
   "source": [
    "df = pd.read_csv('recently arrived immigrants.csv', parse_dates = ['year'],)"
   ]
  },
  {
   "cell_type": "markdown",
   "metadata": {},
   "source": [
    "Data source: USA Decennial Census, American Community Survey. <br>\n",
    "Note: *recently arrived* refers to foreign-born Californians who \"came to live\" to California within the last 5 years from answering the survey. Ages 18-65. "
   ]
  },
  {
   "cell_type": "markdown",
   "metadata": {},
   "source": [
    "***\n",
    "**A little bit of clean up**\n",
    "\n",
    "Note: Make sure to change `year` to a datetime object otherwise altair may not interpret 1980 as the year 1980 but 1980 days (? probably)"
   ]
  },
  {
   "cell_type": "code",
   "execution_count": 3,
   "metadata": {},
   "outputs": [],
   "source": [
    "df['bpld'] = df['bpld'].str.capitalize()"
   ]
  },
  {
   "cell_type": "code",
   "execution_count": 4,
   "metadata": {},
   "outputs": [],
   "source": [
    "data = df.copy()\n",
    "def make_altair_chart(country):\n",
    "    brush = alt.selection(type = 'interval', encodings = ['x'],)\n",
    "    \n",
    "    upper_chart = alt.Chart(data[data['bpld'] == country]).mark_line().encode(\n",
    "        x = alt.X('year:T', timeUnit='year', scale = {'domain': brush.ref()}, axis = alt.Axis(title = 'Year') ,),\n",
    "        y = alt.Y('perwt:Q', axis = alt.Axis(title = 'Number of People',), ),\n",
    "        color = alt.Color('agg educd', legend = alt.Legend(title = 'Educational Attainment'),),\n",
    "    ).properties(\n",
    "        title = f'{country}'.capitalize(),\n",
    "        width = 500,\n",
    "        height = 300,\n",
    "    )\n",
    "    \n",
    "    lower_chart = upper_chart.properties(\n",
    "        title = '',\n",
    "        selection = brush,\n",
    "        height = 60,\n",
    "    )\n",
    "    \n",
    "    chart = alt.vconcat(upper_chart, lower_chart)\n",
    "    \n",
    "    return chart"
   ]
  },
  {
   "cell_type": "code",
   "execution_count": 5,
   "metadata": {},
   "outputs": [
    {
     "data": {
      "application/vnd.jupyter.widget-view+json": {
       "model_id": "f8636589e4f94c32aacdad256ea60dd1",
       "version_major": 2,
       "version_minor": 0
      },
      "text/plain": [
       "interactive(children=(Dropdown(description='country', options=('Afghanistan', 'Africa, ns/nec', 'Albania', 'Al…"
      ]
     },
     "metadata": {},
     "output_type": "display_data"
    }
   ],
   "source": [
    "interact(make_altair_chart, country = sorted(df['bpld'].unique()), );"
   ]
  },
  {
   "cell_type": "code",
   "execution_count": null,
   "metadata": {},
   "outputs": [],
   "source": []
  }
 ],
 "metadata": {
  "kernelspec": {
   "display_name": "Python 3",
   "language": "python",
   "name": "python3"
  },
  "language_info": {
   "codemirror_mode": {
    "name": "ipython",
    "version": 3
   },
   "file_extension": ".py",
   "mimetype": "text/x-python",
   "name": "python",
   "nbconvert_exporter": "python",
   "pygments_lexer": "ipython3",
   "version": "3.8.5"
  }
 },
 "nbformat": 4,
 "nbformat_minor": 2
}

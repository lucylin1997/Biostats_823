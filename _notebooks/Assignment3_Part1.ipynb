{
 "cells": [
  {
   "cell_type": "code",
   "execution_count": 9,
   "id": "gross-think",
   "metadata": {},
   "outputs": [],
   "source": [
    "import pandas as pd\n",
    "import altair as alt\n",
    "from ipywidgets import interact\n",
    "from ipywidgets.embed import embed_minimal_html"
   ]
  },
  {
   "cell_type": "code",
   "execution_count": 6,
   "id": "running-chambers",
   "metadata": {},
   "outputs": [
    {
     "data": {
      "text/html": [
       "<div>\n",
       "<style scoped>\n",
       "    .dataframe tbody tr th:only-of-type {\n",
       "        vertical-align: middle;\n",
       "    }\n",
       "\n",
       "    .dataframe tbody tr th {\n",
       "        vertical-align: top;\n",
       "    }\n",
       "\n",
       "    .dataframe thead th {\n",
       "        text-align: right;\n",
       "    }\n",
       "</style>\n",
       "<table border=\"1\" class=\"dataframe\">\n",
       "  <thead>\n",
       "    <tr style=\"text-align: right;\">\n",
       "      <th></th>\n",
       "      <th>Country</th>\n",
       "      <th>Code</th>\n",
       "      <th>Year</th>\n",
       "      <th>Death_Rate</th>\n",
       "    </tr>\n",
       "  </thead>\n",
       "  <tbody>\n",
       "    <tr>\n",
       "      <th>0</th>\n",
       "      <td>Afghanistan</td>\n",
       "      <td>AFG</td>\n",
       "      <td>1990-01-01</td>\n",
       "      <td>6.802930</td>\n",
       "    </tr>\n",
       "    <tr>\n",
       "      <th>1</th>\n",
       "      <td>Afghanistan</td>\n",
       "      <td>AFG</td>\n",
       "      <td>1991-01-01</td>\n",
       "      <td>6.973494</td>\n",
       "    </tr>\n",
       "    <tr>\n",
       "      <th>2</th>\n",
       "      <td>Afghanistan</td>\n",
       "      <td>AFG</td>\n",
       "      <td>1992-01-01</td>\n",
       "      <td>6.989882</td>\n",
       "    </tr>\n",
       "    <tr>\n",
       "      <th>3</th>\n",
       "      <td>Afghanistan</td>\n",
       "      <td>AFG</td>\n",
       "      <td>1993-01-01</td>\n",
       "      <td>7.088983</td>\n",
       "    </tr>\n",
       "    <tr>\n",
       "      <th>4</th>\n",
       "      <td>Afghanistan</td>\n",
       "      <td>AFG</td>\n",
       "      <td>1994-01-01</td>\n",
       "      <td>7.392472</td>\n",
       "    </tr>\n",
       "  </tbody>\n",
       "</table>\n",
       "</div>"
      ],
      "text/plain": [
       "       Country Code       Year  Death_Rate\n",
       "0  Afghanistan  AFG 1990-01-01    6.802930\n",
       "1  Afghanistan  AFG 1991-01-01    6.973494\n",
       "2  Afghanistan  AFG 1992-01-01    6.989882\n",
       "3  Afghanistan  AFG 1993-01-01    7.088983\n",
       "4  Afghanistan  AFG 1994-01-01    7.392472"
      ]
     },
     "execution_count": 6,
     "metadata": {},
     "output_type": "execute_result"
    }
   ],
   "source": [
    "df = pd.read_csv('https://raw.githubusercontent.com/rfordatascience/tidytuesday/master/data/2018/2018-11-13/malaria_deaths.csv')\n",
    "#df.head()\n",
    "df.columns = ['Country', 'Code','Year','Death_Rate']\n",
    "df['Year'] = pd.to_datetime(df['Year'], format='%Y')\n",
    "df.head()"
   ]
  },
  {
   "cell_type": "code",
   "execution_count": 7,
   "id": "revolutionary-batch",
   "metadata": {},
   "outputs": [],
   "source": [
    "data = df.copy()\n",
    "def make_altair_chart(country):\n",
    "    chart = alt.Chart(data[data['Country'] == country]).mark_line().encode(\n",
    "        x = alt.X('Year:T', timeUnit='year',  axis = alt.Axis(title = 'Year') ,),\n",
    "        y = alt.Y('Death_Rate:Q', axis = alt.Axis(title = 'Death Rate',), ),    \n",
    "    ).properties(\n",
    "        title = f'{country}'.capitalize(),\n",
    "        width = 500,\n",
    "        height = 300,\n",
    "    )\n",
    "    \n",
    "    return chart\n"
   ]
  },
  {
   "cell_type": "code",
   "execution_count": 10,
   "id": "acute-alarm",
   "metadata": {},
   "outputs": [
    {
     "data": {
      "application/vnd.jupyter.widget-view+json": {
       "model_id": "e1f285951c034aef86ef262e6d4533b6",
       "version_major": 2,
       "version_minor": 0
      },
      "text/plain": [
       "interactive(children=(Dropdown(description='country', options=('Afghanistan', 'Albania', 'Algeria', 'American …"
      ]
     },
     "metadata": {},
     "output_type": "display_data"
    }
   ],
   "source": [
    "g =interact(make_altair_chart, country = sorted(df['Country'].unique()), );"
   ]
  },
  {
   "cell_type": "code",
   "execution_count": null,
   "id": "furnished-delta",
   "metadata": {},
   "outputs": [],
   "source": []
  }
 ],
 "metadata": {
  "kernelspec": {
   "display_name": "Python 3",
   "language": "python",
   "name": "python3"
  },
  "language_info": {
   "codemirror_mode": {
    "name": "ipython",
    "version": 3
   },
   "file_extension": ".py",
   "mimetype": "text/x-python",
   "name": "python",
   "nbconvert_exporter": "python",
   "pygments_lexer": "ipython3",
   "version": "3.7.9"
  }
 },
 "nbformat": 4,
 "nbformat_minor": 5
}
